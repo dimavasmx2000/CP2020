{
 "cells": [
  {
   "cell_type": "markdown",
   "metadata": {},
   "source": [
    "# Part I. Root-finding. Newton's iteration."
   ]
  },
  {
   "cell_type": "markdown",
   "metadata": {},
   "source": [
    "Write a function which performs Newton's iteration for a given function $f(x)$ with known derivative $f'(x)$. Your function should find the root of $f(x)$ with a predefined absolute accuracy $\\epsilon$. "
   ]
  },
  {
   "cell_type": "code",
   "execution_count": 3,
   "metadata": {},
   "outputs": [],
   "source": [
    "import numpy as np\n",
    "import matplotlib.pyplot as plt\n",
    "import math"
   ]
  },
  {
   "cell_type": "code",
   "execution_count": 4,
   "metadata": {},
   "outputs": [],
   "source": [
    "def newton_iteration(f, fder, x0, eps=1e-5, maxiter=1000):\n",
    "    \"\"\"Find a root of $f(x) = 0$ via Newton's iteration starting from x0.\n",
    "    \n",
    "    Parameters\n",
    "    ----------\n",
    "    f : callable\n",
    "        The function to find a root of.\n",
    "    fder : callable\n",
    "        The derivative of `f`.\n",
    "    x0 : float\n",
    "        Initial value for the Newton's iteration.\n",
    "    eps : float\n",
    "        The target accuracy. \n",
    "        The iteration stops when the distance between successive iterates is below `eps`.\n",
    "        Default is 1e-5.\n",
    "    maxiter : int\n",
    "        The maximum number of iterations (default is 1000.)\n",
    "        Iterations terminate if the number of iterations exceeds `maxiter`.\n",
    "        This parameter is only needed to avoid infinite loops if iterations wander off.\n",
    "        \n",
    "    Returns\n",
    "    -------\n",
    "    x : float\n",
    "        The estimate for the root.\n",
    "    niter : int\n",
    "        The number of iterations.\n",
    "    \"\"\"\n",
    "    if f(x0) == 0:\n",
    "        return x0, 0\n",
    "    x1 = x0\n",
    "    x2 = x1 - f(x1) / fder(x1)\n",
    "    i = 1\n",
    "    while abs(x1 - x2) > eps and i <= maxiter:\n",
    "        x1 = x2\n",
    "        x2 = x1 - f(x1) / fder(x1)\n",
    "        i+=1\n",
    "    return x2, i "
   ]
  },
  {
   "cell_type": "markdown",
   "metadata": {},
   "source": [
    "### Test I.1 \n",
    "\n",
    "Test your implementation on a simple example, $f(x) = x^2 - 1$ or similar. (20% of the total grade)"
   ]
  },
  {
   "cell_type": "code",
   "execution_count": 5,
   "metadata": {},
   "outputs": [],
   "source": [
    "def f(x):\n",
    "    return x**2-1\n",
    "def fder(x):\n",
    "    return 2*x"
   ]
  },
  {
   "cell_type": "code",
   "execution_count": 10,
   "metadata": {},
   "outputs": [
    {
     "name": "stdout",
     "output_type": "stream",
     "text": [
      "x0_left= -10\n",
      "x1=  -1.0000000000139897 итерации:  7\n",
      "x0_right = 10\n",
      "x2=  1.0000000000139897 итерации:  7\n",
      "\n",
      "x0_left= -20\n",
      "x1=  -1.0000000000149214 итерации:  8\n",
      "x0_right = 20\n",
      "x2=  1.0000000000149214 итерации:  8\n",
      "\n",
      "x0_left= -30\n",
      "x1=  -1.0000000000000029 итерации:  9\n",
      "x0_right = 30\n",
      "x2=  1.0000000000000029 итерации:  9\n",
      "\n",
      "x0_left= -40\n",
      "x1=  -1.0000000000151628 итерации:  9\n",
      "x0_right = 40\n",
      "x2=  1.0000000000151628 итерации:  9\n",
      "\n"
     ]
    }
   ],
   "source": [
    "for i in range(10,50,10): \n",
    "    print('x0_left=',-i) \n",
    "    x1, n1 = newton_iteration(f, fder, -i)\n",
    "    print('x1= ', x1,'итерации: ',n1)\n",
    "    print('x0_right =',i) \n",
    "    x2, n2 = newton_iteration(f, fder, i)\n",
    "    print('x2= ', x2,'итерации: ',n1)\n",
    "    print('')"
   ]
  },
  {
   "cell_type": "markdown",
   "metadata": {},
   "source": [
    "Число итераций растет, чем дальше начальное приближение, все верно"
   ]
  },
  {
   "cell_type": "markdown",
   "metadata": {},
   "source": [
    "### Test I.2\n",
    "\n",
    "Now consider a function which has a multiple root. Take $f(x) = (x^2 - 1)^2$ as an example. Implement a modified Newton's iteraion,\n",
    "\n",
    "$$\n",
    "x_{n+1} = x_{n} - m \\frac{f(x_n)}{f'(x_n)}\n",
    "$$\n",
    "\n",
    "and vary $m= 1, 2, 3, 4, 5$. Check the number of iterations required for convergence within a fixed $\\epsilon$. Are your observations consistent with the expectation that the convergence is quadratic is $m$ equals the multiplicity of the root, and is linear otherwise? (40% of the total grade)"
   ]
  },
  {
   "cell_type": "code",
   "execution_count": 12,
   "metadata": {},
   "outputs": [],
   "source": [
    "def mod_newton_iteration(f, fder, m, x0, eps=1e-5, maxiter=1000):\n",
    "    \"\"\"Find a root of $f(x) = 0$ via Newton's iteration starting from x0.\n",
    "    \n",
    "    Parameters\n",
    "    ----------\n",
    "    f : callable\n",
    "        The function to find a root of.\n",
    "    fder : callable\n",
    "        The derivative of `f`.\n",
    "    x0 : float\n",
    "        Initial value for the Newton's iteration.\n",
    "    m : integer\n",
    "        Integer constant for modification of Newton's iteration.\n",
    "    eps : float\n",
    "        The target accuracy. \n",
    "        The iteration stops when the distance between successive iterates is below `eps`.\n",
    "        Default is 1e-5.\n",
    "    maxiter : int\n",
    "        The maximum number of iterations (default is 1000.)\n",
    "        Iterations terminate if the number of iterations exceeds `maxiter`.\n",
    "        This parameter is only needed to avoid infinite loops if iterations wander off.\n",
    "        \n",
    "    Returns\n",
    "    -------\n",
    "    x : float\n",
    "        The estimate for the root.\n",
    "    niter : int\n",
    "        The number of iterations.\n",
    "    \"\"\"\n",
    "    if f(x0) == 0:\n",
    "        return x0, 0\n",
    "    x1 = x0\n",
    "    x2 = x1 - m * f(x1) / fder(x1)\n",
    "    i = 1\n",
    "    while abs(x1 - x2) > eps and i <= maxiter:\n",
    "        x1 = x2\n",
    "        x2 = x1 - m * f(x1) / fder(x1)\n",
    "        i+=1\n",
    "    return x2, i "
   ]
  },
  {
   "cell_type": "code",
   "execution_count": 13,
   "metadata": {},
   "outputs": [],
   "source": [
    "def f1(x):\n",
    "    return (x**2-1)**2\n",
    "def fder1(x):\n",
    "    return 4*x*(x**2-1)"
   ]
  },
  {
   "cell_type": "code",
   "execution_count": 14,
   "metadata": {},
   "outputs": [
    {
     "name": "stdout",
     "output_type": "stream",
     "text": [
      "x0=   10\n",
      "m = 1\n",
      "x1=  -1.0000078664191003 итерации:  24\n",
      "x2=  1.0000078664191003 итерации:  24\n",
      " \n",
      "m = 2\n",
      "x1=  -1.0000000000139897 итерации:  7\n",
      "x2=  1.0000000000139897 итерации:  7\n",
      " \n",
      "m = 3\n",
      "x1=  -1.0000021115603943 итерации:  17\n",
      "x2=  1.0000021115603943 итерации:  17\n",
      " \n",
      "m = 4\n",
      "x1=  -0.09999999999999964 итерации:  1001\n",
      "x2=  0.09999999999999964 итерации:  1001\n",
      " \n",
      "m = 5\n",
      "x1=  -2.148980765643676 итерации:  1001\n",
      "x2=  2.148980765643676 итерации:  1001\n",
      " \n",
      "x0=   20\n",
      "m = 1\n",
      "x1=  -1.0000052647805826 итерации:  27\n",
      "x2=  1.0000052647805826 итерации:  27\n",
      " \n",
      "m = 2\n",
      "x1=  -1.0000000000149214 итерации:  8\n",
      "x2=  1.0000000000149214 итерации:  8\n",
      " \n",
      "m = 3\n",
      "x1=  -0.9999980399025524 итерации:  19\n",
      "x2=  0.9999980399025524 итерации:  19\n",
      " \n",
      "m = 4\n",
      "x1=  -0.05000000000000071 итерации:  1001\n",
      "x2=  0.05000000000000071 итерации:  1001\n",
      " \n",
      "m = 5\n",
      "x1=  -2.0665742965487977 итерации:  1001\n",
      "x2=  2.0665742965487977 итерации:  1001\n",
      " \n",
      "x0=   30\n",
      "m = 1\n",
      "x1=  -1.0000070024728231 итерации:  28\n",
      "x2=  1.0000070024728231 итерации:  28\n",
      " \n",
      "m = 2\n",
      "x1=  -1.0000000000000029 итерации:  9\n",
      "x2=  1.0000000000000029 итерации:  9\n",
      " \n",
      "m = 3\n",
      "x1=  -0.9999978368832554 итерации:  19\n",
      "x2=  0.9999978368832554 итерации:  19\n",
      " \n",
      "m = 4\n",
      "x1=  -0.03333333333333499 итерации:  1001\n",
      "x2=  0.03333333333333499 итерации:  1001\n",
      " \n",
      "m = 5\n",
      "x1=  -1.1171725394835268 итерации:  1001\n",
      "x2=  1.1171725394835268 итерации:  1001\n",
      " \n"
     ]
    }
   ],
   "source": [
    "for i in range(10,40,10): \n",
    "    print('x0=  ',i) \n",
    "    for j in range(1, 6):\n",
    "        print('m =', j)\n",
    "        x1, n1 = mod_newton_iteration(f1, fder1, j, -i)\n",
    "        print('x1= ', x1,'итерации: ',n1)\n",
    "        x2, n2 = mod_newton_iteration(f1, fder1, j, i)\n",
    "        print('x2= ', x2,'итерации: ',n2)\n",
    "        print(' ')"
   ]
  },
  {
   "cell_type": "markdown",
   "metadata": {},
   "source": [
    "При m=2 все сходится быстро"
   ]
  },
  {
   "cell_type": "markdown",
   "metadata": {},
   "source": [
    "# Part II. Fixed-point iteration"
   ]
  },
  {
   "cell_type": "markdown",
   "metadata": {},
   "source": [
    "Consider the following equation:\n",
    "\n",
    "$$\n",
    "\\sqrt{x} = \\cos{x}\n",
    "$$\n",
    "\n",
    "Plot the left-hand side and right-hand side of this equation, and localize the root graphically. Estimate the location of the root by visual inspection of the plot.\n",
    "\n",
    "Write a function which finds the solution using fixed-point iteration up to a predefined accuracy $\\epsilon$. Compare the result to an estimate from a visual inspection.\n",
    "\n",
    "Next, rewrite the fixed-point problem in the form\n",
    "\n",
    "$$\n",
    "x = x - \\alpha f(x)\n",
    "$$\n",
    "\n",
    "where $\\alpha$ is the free parameter. Check the dependence of the number of iterations required for a given $\\epsilon$ on $\\alpha$. Compare your results to an expectation that the optimal value of $\\alpha$ is given by \n",
    "\n",
    "$$\n",
    "\\alpha = \\frac{2}{m + M}\n",
    "$$\n",
    "\n",
    "where $0 < m < |f'(x)| < M$ over the localization interval. (40% of the total grade)"
   ]
  },
  {
   "cell_type": "markdown",
   "metadata": {},
   "source": [
    "Сделаем оценку"
   ]
  },
  {
   "cell_type": "code",
   "execution_count": 16,
   "metadata": {},
   "outputs": [
    {
     "data": {
      "text/plain": [
       "<matplotlib.legend.Legend at 0x11e98bdd8>"
      ]
     },
     "execution_count": 16,
     "metadata": {},
     "output_type": "execute_result"
    },
    {
     "data": {
      "image/png": "[encoded data removed]",
      "text/plain": [
       "<Figure size 432x288 with 1 Axes>"
      ]
     },
     "metadata": {
      "needs_background": "light"
     },
     "output_type": "display_data"
    }
   ],
   "source": [
    "x = np.linspace(0, 1, 1000)\n",
    "plt.plot(x, np.sqrt(x), label='sqrt(x)')\n",
    "plt.plot(x, np.cos(x), label='cos(x)')\n",
    "plt.grid(True)\n",
    "plt.legend()"
   ]
  },
  {
   "cell_type": "code",
   "execution_count": 17,
   "metadata": {},
   "outputs": [],
   "source": [
    "def fixed_point_iteration(f, x0, a, eps=1e-5, maxiter=1000):\n",
    "    if f(x0) == 0:\n",
    "        return x0, 0\n",
    "    x1 = x0\n",
    "    x2 = x1 - a * f(x1)\n",
    "    i = 1\n",
    "    while abs(x1 - x2) > eps and i <= maxiter:\n",
    "        x1 = x2\n",
    "        x2 = x1 - a * f(x1)\n",
    "        i+=1\n",
    "    return x2, i "
   ]
  },
  {
   "cell_type": "code",
   "execution_count": 22,
   "metadata": {},
   "outputs": [
    {
     "data": {
      "text/plain": [
       "Text(0, 0.5, 'Итерации')"
      ]
     },
     "execution_count": 22,
     "metadata": {},
     "output_type": "execute_result"
    },
    {
     "data": {
      "image/png": "[encoded data removed]",
      "text/plain": [
       "<Figure size 432x288 with 1 Axes>"
      ]
     },
     "metadata": {
      "needs_background": "light"
     },
     "output_type": "display_data"
    }
   ],
   "source": [
    "a = np.linspace(0, 1.5, 1000)\n",
    "iterat = np.zeros(len(a))\n",
    "j=0\n",
    "def f(x):\n",
    "    return x**0.5-np.cos(x)\n",
    "for i in a:\n",
    "    iterat[j] = fixed_point_iteration(f,0.6, i)[1]\n",
    "    j = j+1\n",
    "    \n",
    "plt.plot(a[1:], iterat[1:])\n",
    "a1 = 2/(1/2/math.sqrt(0.6)+math.sin(0.6)+1/2/math.sqrt(0.7)+math.sin(0.7))  #a=2/(m+M)\n",
    "plt.plot(a1, fixed_point_iteration(f,-1, a1)[1], '*', label='Оптимум' )\n",
    "plt.legend()\n",
    "plt.xlabel('а')\n",
    "plt.ylabel('Итерации')"
   ]
  },
  {
   "cell_type": "markdown",
   "metadata": {},
   "source": [
    "Оптимум около 0.8"
   ]
  },
  {
   "cell_type": "markdown",
   "metadata": {},
   "source": [
    "# Part III. Newton's fractal.\n",
    "\n",
    "(Not graded). \n",
    "\n",
    "Consider the equation\n",
    "\n",
    "$$\n",
    "x^3 = 1\n",
    "$$\n",
    "\n",
    "It has three solutions in the complex plane, $x_k = \\exp(i\\, 2\\pi k/ 3)$, $k = 0, 1, 2$.\n",
    "\n",
    "The Newton's iterations converge to one of these solutions, depending on the starting point in the complex plane (to converge to a complex-valued solution, the iteration needs a complex-valued starting point).\n",
    "\n",
    "Plot the \\emph{basins of attraction} of these roots on the complex plane of $x$ (i.e., on the plane $\\mathrm{Re}x$ -- $\\mathrm{Im}x$). To this end, make a series of calculations, varying the initial conditions on a grid of points. \n",
    "Color the grid in three colors, according to the root, to which iterations converged."
   ]
  },
  {
   "cell_type": "code",
   "execution_count": null,
   "metadata": {
    "collapsed": true
   },
   "outputs": [],
   "source": []
  }
 ],
 "metadata": {
  "kernelspec": {
   "display_name": "Python 3",
   "language": "python",
   "name": "python3"
  },
  "language_info": {
   "codemirror_mode": {
    "name": "ipython",
    "version": 3
   },
   "file_extension": ".py",
   "mimetype": "text/x-python",
   "name": "python",
   "nbconvert_exporter": "python",
   "pygments_lexer": "ipython3",
   "version": "3.7.1"
  }
 },
 "nbformat": 4,
 "nbformat_minor": 2
}
